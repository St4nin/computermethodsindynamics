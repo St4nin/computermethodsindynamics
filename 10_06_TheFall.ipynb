{
 "cells": [
  {
   "cell_type": "markdown",
   "metadata": {},
   "source": [
    "# The Fall\n",
    "Implementation of elevator trough the Earth\n",
    "\n",
    "## Analytic solution\n",
    "\n",
    "Is based on equations:\n",
    "\n",
    "$r=g\\frac{t^2}{2}$\n",
    "\n",
    "for $r=6378km$ the time is:\n",
    "\n",
    "$t=\\sqrt{\\frac{2r}{g}}=\\sqrt{\\frac{2\\cdot6378000}{9.81}}\\approx19min$\n"
   ]
  },
  {
   "cell_type": "code",
   "execution_count": 1,
   "metadata": {},
   "outputs": [
    {
     "name": "stdout",
     "output_type": "stream",
     "text": [
      "Travel time to the center of the Earth is 1140.31 seconds. Which is 19.01 minutes\n",
      "Total travel time is 38.010 minutes\n"
     ]
    }
   ],
   "source": [
    "from numpy import sqrt\n",
    "t=sqrt(2*6378000 / 9.81)\n",
    "print('Travel time to the center of the Earth is %5.2f seconds. Which is %5.2f minutes' % (t, t/60.) )\n",
    "print('Total travel time is %5.3f minutes' % (2*t/60.))"
   ]
  },
  {
   "cell_type": "markdown",
   "metadata": {},
   "source": [
    "## Numeric solution"
   ]
  },
  {
   "cell_type": "code",
   "execution_count": 2,
   "metadata": {},
   "outputs": [
    {
     "name": "stdout",
     "output_type": "stream",
     "text": [
      "Force on the ground 9.792117207541878\n",
      "Starting point 0 6378000\n"
     ]
    }
   ],
   "source": [
    "import numpy as np\n",
    "import pylab as plt\n",
    "from sys import exit\n",
    "\n",
    "G = 6.67e-11        ### gravitacni konstatnta\n",
    "M = 5.972e24        ### hmotnost Zeme\n",
    "m2 = 1              ### hmotnost telesa\n",
    "R = 6378000         ### polomer Zeme\n",
    "\n",
    "NN = 30\n",
    "D = 1\n",
    "\n",
    "print('Force on the ground', G * M * m2 / R**2)\n",
    "\n",
    "fall_x = 0 \n",
    "fall_y = R\n",
    "print('Starting point', fall_x, fall_y)"
   ]
  },
  {
   "cell_type": "markdown",
   "metadata": {},
   "source": [
    "## Approximation of Earth mass by disrete set of points"
   ]
  },
  {
   "cell_type": "code",
   "execution_count": 3,
   "metadata": {},
   "outputs": [
    {
     "name": "stdout",
     "output_type": "stream",
     "text": [
      "Number of points 592\n",
      "Calculated Mass 5.972e+24\n",
      "Element mass 1.0087837837837839e+22\n"
     ]
    },
    {
     "data": {
      "image/png": "[encoded data removed]",
      "text/plain": [
       "<Figure size 432x288 with 1 Axes>"
      ]
     },
     "metadata": {
      "needs_background": "light"
     },
     "output_type": "display_data"
    }
   ],
   "source": [
    "x, y = [], []\n",
    "for i in np.linspace(-R/D, R/D, NN):\n",
    "    for j in np.linspace(-R/D, R/D, NN):\n",
    "        if np.sqrt(i**2 + j**2) < R and (i > (R/10 + fall_x) or i < (-R/10 + fall_x)) :\n",
    "            x.append(i)\n",
    "            y.append(j)\n",
    "\n",
    "\n",
    "x = np.matrix(x)\n",
    "y = np.matrix(y)\n",
    "\n",
    "N = np.size(x)\n",
    "print('Number of points', N)\n",
    "\n",
    "m1 = np.ones([1,N]) * M / N         ### all points represents mass of the Earth\n",
    "print('Calculated Mass', np.sum(m1))\n",
    "print('Element mass', m1[0,0])\n",
    "plt.plot(x, y, 'k.')\n",
    "plt.axis('square')\n",
    "plt.show()"
   ]
  },
  {
   "cell_type": "markdown",
   "metadata": {},
   "source": [
    "## Force calculation by gravitational force $F=\\frac{G.m_1.m_2}{r^2}$ to compare with standard model in Earth potential field $F=ma$"
   ]
  },
  {
   "cell_type": "code",
   "execution_count": 4,
   "metadata": {},
   "outputs": [
    {
     "name": "stdout",
     "output_type": "stream",
     "text": [
      "Applied Force -14.054753990467816\n"
     ]
    }
   ],
   "source": [
    "forces = G * m1 * m2 / (np.power(fall_x - x, 2) + np.power(fall_y - y, 2))\n",
    "forces_projection = np.multiply(forces, np.cos(np.arctan2((x - fall_x), (y - fall_y))))\n",
    "applied_force = np.sum(forces_projection)\n",
    "print('Applied Force', applied_force)"
   ]
  },
  {
   "cell_type": "markdown",
   "metadata": {},
   "source": [
    "## Simulation of given time steps by Euler integration\n",
    "Acceleration\n",
    "\n",
    "$\\ddot{x}_{t+1} = \\frac{F}{m}$\n",
    "\n",
    "Velocity\n",
    "\n",
    "$\\dot{x}_{t+1} = \\dot{x_t} + \\ddot{x}_{t+1}dt$\n",
    "\n",
    "Position\n",
    "\n",
    "$x_{t+1} = x_t + \\dot{x}_{t+1}dt$"
   ]
  },
  {
   "cell_type": "code",
   "execution_count": 5,
   "metadata": {},
   "outputs": [
    {
     "name": "stdout",
     "output_type": "stream",
     "text": [
      "Calculation done!\n"
     ]
    }
   ],
   "source": [
    "dt = 1\n",
    "q = fall_y   # x\n",
    "q_dot = 0    # v\n",
    "q_2dot = 0   # a\n",
    "t, a, v, s, f = [], [], [], [], []\n",
    "\n",
    "for i in range(3000):\n",
    "    forces = G * m1 * m2 / (np.power(fall_x - x, 2) + np.power(fall_y - y, 2))\n",
    "    forces_projection = np.multiply(forces, np.cos(np.arctan2((x - fall_x), (y - fall_y))))\n",
    "    applied_force = np.sum(forces_projection)\n",
    "    # Euler integration\n",
    "    q_2dot = (applied_force / m2) # Acceleration\n",
    "    q_dot = q_dot + q_2dot * dt   # Velocity\n",
    "    q = q + q_dot * dt            # Position\n",
    "    #\n",
    "    fall_y = q\n",
    "    # Store results\n",
    "    a.append(q_2dot)\n",
    "    v.append(q_dot)\n",
    "    s.append(q)\n",
    "    t.append(dt*i)\n",
    "    f.append(applied_force)    \n",
    "print('Calculation done!')"
   ]
  },
  {
   "cell_type": "markdown",
   "metadata": {},
   "source": [
    "## Show position of the elevator relative to the Earth after the simulation"
   ]
  },
  {
   "cell_type": "code",
   "execution_count": 6,
   "metadata": {},
   "outputs": [
    {
     "data": {
      "image/png": "[encoded data removed]",
      "text/plain": [
       "<Figure size 432x288 with 1 Axes>"
      ]
     },
     "metadata": {
      "needs_background": "light"
     },
     "output_type": "display_data"
    }
   ],
   "source": [
    "plt.plot(x, y, 'k.')\n",
    "plt.plot(fall_x, fall_y, 'r^')\n",
    "plt.axis('square')\n",
    "plt.show()"
   ]
  },
  {
   "cell_type": "markdown",
   "metadata": {},
   "source": [
    "## Show position during the _fall_"
   ]
  },
  {
   "cell_type": "code",
   "execution_count": 7,
   "metadata": {},
   "outputs": [
    {
     "data": {
      "image/png": "[encoded data removed]",
      "text/plain": [
       "<Figure size 432x288 with 1 Axes>"
      ]
     },
     "metadata": {
      "needs_background": "light"
     },
     "output_type": "display_data"
    }
   ],
   "source": [
    "plt.plot(t, s)\n",
    "plt.xlabel('time [s]')\n",
    "plt.legend(['X [m]'])\n",
    "plt.show()"
   ]
  },
  {
   "cell_type": "markdown",
   "metadata": {},
   "source": [
    "## Show velocity during the _fall_"
   ]
  },
  {
   "cell_type": "code",
   "execution_count": 8,
   "metadata": {},
   "outputs": [
    {
     "name": "stdout",
     "output_type": "stream",
     "text": [
      "Max reached velocity is 8956.44 m/s.\n"
     ]
    },
    {
     "data": {
      "image/png": "[encoded data removed]",
      "text/plain": [
       "<Figure size 432x288 with 1 Axes>"
      ]
     },
     "metadata": {
      "needs_background": "light"
     },
     "output_type": "display_data"
    }
   ],
   "source": [
    "print('Max reached velocity is %5.2f m/s.' %abs(min(v)))\n",
    "plt.plot(t, v)\n",
    "plt.xlabel('time [s]')\n",
    "plt.legend([r'Velocity $[m.s^{-1}]$'])\n",
    "plt.show()"
   ]
  },
  {
   "cell_type": "markdown",
   "metadata": {},
   "source": [
    "## Show Force and Acceleration during the _fall_"
   ]
  },
  {
   "cell_type": "code",
   "execution_count": 9,
   "metadata": {},
   "outputs": [
    {
     "data": {
      "image/png": "[encoded data removed]",
      "text/plain": [
       "<Figure size 432x288 with 1 Axes>"
      ]
     },
     "metadata": {
      "needs_background": "light"
     },
     "output_type": "display_data"
    }
   ],
   "source": [
    "plt.plot(t, f)\n",
    "plt.plot(t, a)\n",
    "plt.xlabel('time [s]')\n",
    "plt.legend(['Force [N]', r'Acceleration $[m.s^{-2}]$'])\n",
    "plt.show()"
   ]
  },
  {
   "cell_type": "code",
   "execution_count": null,
   "metadata": {},
   "outputs": [],
   "source": []
  }
 ],
 "metadata": {
  "kernelspec": {
   "display_name": "Python 3",
   "language": "python",
   "name": "python3"
  },
  "language_info": {
   "codemirror_mode": {
    "name": "ipython",
    "version": 3
   },
   "file_extension": ".py",
   "mimetype": "text/x-python",
   "name": "python",
   "nbconvert_exporter": "python",
   "pygments_lexer": "ipython3",
   "version": "3.8.2"
  }
 },
 "nbformat": 4,
 "nbformat_minor": 2
}
